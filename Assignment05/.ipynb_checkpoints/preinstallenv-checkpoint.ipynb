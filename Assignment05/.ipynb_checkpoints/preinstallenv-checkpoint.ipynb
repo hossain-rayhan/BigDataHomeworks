{
 "cells": [
  {
   "cell_type": "markdown",
   "metadata": {},
   "source": [
    "## What's this all about?\n",
    "\n",
    "In order to run Spark applications on your local machine, you must have **Java 8**, **Spark**, and the **PySpark** package installed.   If you are unsure whether you have any or all of these requirements, we recommend you follow the instructions in this notebook."
   ]
  },
  {
   "cell_type": "markdown",
   "metadata": {},
   "source": [
    "### Automatic Setup\n",
    "\n",
    "Executing the following cell will install Java 8 on your machine. If you do not trust this code, please install Java 8 from its webpages.\n",
    "\n",
    "*Note: If you have Java already installed, we recommend uninstalling it before running the following cell.*\n",
    "\n",
    "*Linux/Mac distro note: Running this code with delete your `$HOME/java/` directory and replace it with a fresh Java 8 installation*"
   ]
  },
  {
   "cell_type": "code",
   "execution_count": 1,
   "metadata": {},
   "outputs": [
    {
     "name": "stdout",
     "output_type": "stream",
     "text": [
      "Beginning Java 8 (re)installation!\n",
      "Now installing Java on Linux...\n",
      "--2018-10-01 04:29:56--  http://javadl.oracle.com/webapps/download/AutoDL?BundleId=234464_96a7b8442fe848ef90c96a2fad6ed6d1\n",
      "Resolving javadl.oracle.com (javadl.oracle.com)... 137.254.120.23\n",
      "Connecting to javadl.oracle.com (javadl.oracle.com)|137.254.120.23|:80... connected.\n",
      "HTTP request sent, awaiting response... 302 Moved Temporarily\n",
      "Location: https://sdlc-esd.oracle.com/ESD6/JSCDL/jdk/8u181-b13/96a7b8442fe848ef90c96a2fad6ed6d1/jre-8u181-linux-x64.tar.gz?GroupName=JSC&FilePath=/ESD6/JSCDL/jdk/8u181-b13/96a7b8442fe848ef90c96a2fad6ed6d1/jre-8u181-linux-x64.tar.gz&BHost=javadl.sun.com&File=jre-8u181-linux-x64.tar.gz&AuthParam=1538383796_130aa5c33dfb84448b372484f11bb1f4&ext=.gz [following]\n",
      "--2018-10-01 04:29:56--  https://sdlc-esd.oracle.com/ESD6/JSCDL/jdk/8u181-b13/96a7b8442fe848ef90c96a2fad6ed6d1/jre-8u181-linux-x64.tar.gz?GroupName=JSC&FilePath=/ESD6/JSCDL/jdk/8u181-b13/96a7b8442fe848ef90c96a2fad6ed6d1/jre-8u181-linux-x64.tar.gz&BHost=javadl.sun.com&File=jre-8u181-linux-x64.tar.gz&AuthParam=1538383796_130aa5c33dfb84448b372484f11bb1f4&ext=.gz\n",
      "Resolving sdlc-esd.oracle.com (sdlc-esd.oracle.com)... 2001:559:19:f89c::391a, 2001:559:19:f895::391a, 23.43.160.127\n",
      "Connecting to sdlc-esd.oracle.com (sdlc-esd.oracle.com)|2001:559:19:f89c::391a|:443... connected.\n",
      "HTTP request sent, awaiting response... 200 OK\n",
      "Length: 81191893 (77M) [application/x-gzip]\n",
      "Saving to: ‘/home/rayhan/java.tar.gz’\n",
      "\n",
      "/home/rayhan/java.t 100%[===================>]  77.43M  14.8MB/s    in 5.4s    \n",
      "\n",
      "2018-10-01 04:30:02 (14.4 MB/s) - ‘/home/rayhan/java.tar.gz’ saved [81191893/81191893]\n",
      "\n",
      "env: JAVA_HOME=$HOME/java/bin\n"
     ]
    }
   ],
   "source": [
    "import platform as arch\n",
    "from sys import platform\n",
    "   \n",
    "print('Beginning Java 8 (re)installation!')\n",
    "\n",
    "# Check which OS we are running on (this should also be the code run on Jetstream)\n",
    "if platform.startswith('linux'):\n",
    "    print('Now installing Java on Linux...')\n",
    "    if arch.architecture()[0] == '64bit':\n",
    "        !wget -O ~/java.tar.gz http://javadl.oracle.com/webapps/download/AutoDL?BundleId=234464_96a7b8442fe848ef90c96a2fad6ed6d1\n",
    "    elif arch.architecture()[0] == '32bit':\n",
    "        !wget -O ~/java.tar.gz http://javadl.oracle.com/webapps/download/AutoDL?BundleId=234462_96a7b8442fe848ef90c96a2fad6ed6d1\n",
    "    !rm -rf ~/java && mkdir ~/java && tar -xzf ~/java.tar.gz -C ~/java --strip-components=1 && rm ~/java.tar.gz\n",
    "\n",
    "    # Add JAVA_HOME to environment variables\n",
    "    %env JAVA_HOME=$HOME/java/bin\n",
    "\n",
    "elif platform == 'darwin':\n",
    "    print('Now installing Java on Mac...')\n",
    "    !wget -O ~/java.dmg http://javadl.oracle.com/webapps/download/AutoDL?BundleId=234465_96a7b8442fe848ef90c96a2fad6ed6d1\n",
    "    !hdiutil attach ~/java.dmg\n",
    "    !sudo installer -pkg /Volumes/Java\\ 8\\ Update\\ 181/Java\\ 8\\ Update\\ 181.app/Contents/Resources/JavaAppletPlugin.pkg -target /\n",
    "    !diskutil umount /Volumes/Java\\ 8\\ Update\\ 181 \n",
    "    !rm ~/java.dmg\n",
    "    print('If there was an error, please mount java.dmg in your home directory and follow the instructions to install')\n",
    "\n",
    "elif platform == 'win32':\n",
    "    print('You are running a Windows OS.  Please download the correct version of Java from here: https://java.com/en/download/manual.jsp and install following the instructions.')\n",
    "\n",
    "else:\n",
    "    print('We had trouble determining which OS you are running.  Please ask for help.')\n",
    "    "
   ]
  },
  {
   "cell_type": "markdown",
   "metadata": {},
   "source": [
    "Executing the following cell will install the latest version of Apache Spark and PySpark on your machine.  It will also build matplotlib font libraries and modify your `$PATH` variable for easier use of Spark on JetStream!\n",
    "\n",
    "*Note: If you have Spark already installed, we recommend uninstalling it before running the following cell.*\n",
    "\n",
    "*Note: This code assumes that you have anaconda or miniconda installed on your machine.  Download and install [anaconda3](https://www.anaconda.com/download/) if you do not already have it.  If running this notebook in Jetstream via `ezj`, then Anaconda is already be installed!*"
   ]
  },
  {
   "cell_type": "code",
   "execution_count": null,
   "metadata": {},
   "outputs": [
    {
     "name": "stdout",
     "output_type": "stream",
     "text": [
      "PySpark is not installed, attempting to install now.\n",
      "Solving environment: / "
     ]
    }
   ],
   "source": [
    "from shutil import which\n",
    "\n",
    "# Check if spark is already installed\n",
    "if which(\"pyspark\"):\n",
    "    print('Spark and PySpark are already installed!')\n",
    "else:\n",
    "    print('PySpark is not installed, attempting to install now.')\n",
    "    \n",
    "    # Install spark and pyspark using conda\n",
    "    !conda update -n base conda --yes\n",
    "    !conda install pyspark --yes\n",
    "    \n",
    "    # Add SPARK_HOME to environment variables\n",
    "    %env SPARK_HOME=/opt/anaconda3/bin\n",
    "\n",
    "    print('Installation complete!')\n",
    "    \n",
    "# Set spark master to localhost\n",
    "%env SPARK_LOCAL_IP=\"127.0.0.1\"\n",
    "\n",
    "# Build Matplotlib font library for future use\n",
    "from matplotlib import pyplot as plt\n",
    "plt.plot([0],[0])\n",
    "plt.show()\n",
    "plt.clf()\n",
    "\n",
    "print('All done!!')"
   ]
  },
  {
   "cell_type": "markdown",
   "metadata": {},
   "source": [
    "Finally, check that PySpark is working correctly:"
   ]
  },
  {
   "cell_type": "code",
   "execution_count": null,
   "metadata": {},
   "outputs": [],
   "source": [
    "from pyspark import SparkContext\n",
    "sc = SparkContext()\n"
   ]
  },
  {
   "cell_type": "markdown",
   "metadata": {},
   "source": [
    "Now that we have Java and Spark installed and your environment configured, let's begin running some Spark applications!"
   ]
  }
 ],
 "metadata": {
  "kernelspec": {
   "display_name": "Python 3",
   "language": "python",
   "name": "python3"
  },
  "language_info": {
   "codemirror_mode": {
    "name": "ipython",
    "version": 3
   },
   "file_extension": ".py",
   "mimetype": "text/x-python",
   "name": "python",
   "nbconvert_exporter": "python",
   "pygments_lexer": "ipython3",
   "version": "3.6.5"
  }
 },
 "nbformat": 4,
 "nbformat_minor": 2
}
