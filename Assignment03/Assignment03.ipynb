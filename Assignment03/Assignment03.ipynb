{
 "cells": [
  {
   "cell_type": "markdown",
   "metadata": {},
   "source": [
    "# CS 594 / CS 690 - Assignment 03\n",
    "### September 17, 2018\n",
    "---\n",
    "\n",
    "For this assignment, you must work in groups of one or two students. Each person is responsible to write their own code, but the group will (together) discuss their solution.  In this notebook, we provide you with basic functions for completing the assignment.  *Complete the assignment in this notebook.  You will need to modify existing code and write new code to find a solution*.  Each member of the group must upload their own work (i.e., a notebook file) to GitHub.\n",
    "\n",
    "*Note: Running a cell will not rerun previous cells.  If you edit code in previous cells, you must rerun those cells.  We recommend using* `Run All` *to avoid any errors results from not rerunning previous cells.  You can find this in the menu above:* `Cell -> Run All`"
   ]
  },
  {
   "cell_type": "markdown",
   "metadata": {},
   "source": [
    "### Data Pre-Processing:\n",
    "Below is code to process a unicode text file into a string of only upper-case A-Z characters.  We use this code to read the text file (i.e., \"The Count of Monte Cristo\") and prepare the text for the following three problems.  The output string, which you should use for solving the assignment problems, is named `text_upper`."
   ]
  },
  {
   "cell_type": "code",
   "execution_count": 100,
   "metadata": {},
   "outputs": [
    {
     "name": "stdout",
     "output_type": "stream",
     "text": [
      "PROJECT GUTENBERG S THE COUNT OF MONTE CRISTO  BY ALEXANDRE DUMAS  P RE  THIS EBOOK IS FOR THE USE O\n"
     ]
    }
   ],
   "source": [
    "# Import regular expressions library\n",
    "import re\n",
    "\n",
    "# Read the text file\n",
    "with open('book_CountOfMonteCristo.txt', 'r') as f:\n",
    "    text_lines = f.readlines()\n",
    "\n",
    "# Concatenate the list of strings into a single string\n",
    "text_all = ''.join(text_lines)\n",
    "\n",
    "# Remove all non-alphabet characters with a regular expression\n",
    "text_alpha = re.sub(r'[^a-zA-Z]', ' ', text_all)\n",
    "\n",
    "# Convert characters to upper-case\n",
    "text_upper = text_alpha.upper()\n",
    "\n",
    "# Uncomment the following line if you would like to see the first 100 characters\n",
    "print(text_upper[:100])"
   ]
  },
  {
   "cell_type": "markdown",
   "metadata": {},
   "source": [
    "### Problem 1:\n",
    "Analyze the text for word length frequency. We might expect short words to be more common than long words. But, are words of length 2 more common than words or length 3? Are words of length 3 more common that words of length 4? **Use the text you parsed in the previous cell to count the frequency of each word length in the text**.  *Below, we provide you with the first step to solve this problem and hints for what to do next.*"
   ]
  },
  {
   "cell_type": "code",
   "execution_count": 101,
   "metadata": {},
   "outputs": [
    {
     "name": "stdout",
     "output_type": "stream",
     "text": [
      "Word Length : Count\n",
      "3           : 109798\n",
      "2           :  84021\n",
      "4           :  81777\n",
      "5           :  49101\n",
      "6           :  39015\n",
      "7           :  30701\n"
     ]
    }
   ],
   "source": [
    "import operator\n",
    "# Convert the string of text into a list of words and remove empty words\n",
    "# HINT: ref [1]\n",
    "words = [w for w in text_upper.split(' ') if w is not '']\n",
    "\n",
    "# Uncomment the following line to see the first 100 words\n",
    "#print(words[:100])\n",
    "\n",
    "# Define dictionary to store count of word lengths\n",
    "# HINT: ref [2]\n",
    "word_len_dict = {}\n",
    "\n",
    "# Convert list of words to list of word lengths\n",
    "# Count the words of each length and store in the dictionary\n",
    "# HINT: ref [3]\n",
    "for w in words:\n",
    "    key = len(w)\n",
    "    if key in word_len_dict:\n",
    "        word_len_dict[key] = word_len_dict[key] + 1\n",
    "    else:\n",
    "        word_len_dict[key] = 1\n",
    "\n",
    "# Sort word length by most common into a list of (word length, count) tuples\n",
    "# HINT: ref [4,5,6]\n",
    "sorted_list = sorted(word_len_dict.items(), key = operator.itemgetter(1), reverse = True)\n",
    "\n",
    "\n",
    "# Print the 6 most common word lengths\n",
    "# HINT: ref [7]\n",
    "print(\"Word Length : Count\")\n",
    "for item in sorted_list[0:6]:\n",
    "    #print(item[0], item[1])\n",
    "    print(\"{:<11} : {:>6}\".format(item[0], item[1]))"
   ]
  },
  {
   "cell_type": "markdown",
   "metadata": {},
   "source": [
    "#### Expected Output:\n",
    "```\n",
    "Word Length : Count\n",
    "3           : 109798\n",
    "2           :  84021\n",
    "4           :  81777\n",
    "5           :  49101\n",
    "6           :  39015\n",
    "7           :  30701\n",
    "```"
   ]
  },
  {
   "cell_type": "markdown",
   "metadata": {},
   "source": [
    "**References:**\n",
    "- [1: list comprehensions](https://docs.python.org/3/tutorial/datastructures.html#list-comprehensions)\n",
    "- [2: dictionaries](https://docs.python.org/3.6/library/stdtypes.html#dict)\n",
    "- [3: for loops](https://docs.python.org/3/reference/compound_stmts.html#for)\n",
    "- [4: sorted](https://docs.python.org/3/library/functions.html#sorted)\n",
    "- [5: dict.items](https://docs.python.org/3.6/library/stdtypes.html#dict.items)\n",
    "- [6: lambda expressions](https://docs.python.org/3/tutorial/controlflow.html#lambda-expressions)\n",
    "- [7: format string syntax](https://docs.python.org/3.6/library/string.html#format-string-syntax)"
   ]
  },
  {
   "cell_type": "markdown",
   "metadata": {},
   "source": [
    "### Problem 2:\n",
    "Analyze the text for letter frequency. If you have taken a crypto course and/or have seen substitution ciphers then you are probably aware that ’e’ is the most common letter used in the English language.  **Use the text you parsed above to count the frequency of each letter in the text**. *Below, we provide you with the first step to solve this problem and hints for what to do next.*"
   ]
  },
  {
   "cell_type": "code",
   "execution_count": 102,
   "metadata": {},
   "outputs": [
    {
     "name": "stdout",
     "output_type": "stream",
     "text": [
      "Character : Count\n",
      "E         : 258693\n",
      "T         : 180211\n",
      "A         : 165306\n",
      "O         : 156817\n",
      "I         : 142095\n",
      "N         : 137343\n"
     ]
    }
   ],
   "source": [
    "# Import string library to help us make a dictionary for this solution\n",
    "import string\n",
    "\n",
    "text_without_space = \"\".join(text_upper.split())\n",
    "#print(text_without_space)\n",
    "\n",
    "\n",
    "# Concatenate the list of words into a string of characters\n",
    "# HINT: ref [1]\n",
    "\n",
    "# Define a dictionary for counting letter frequency\n",
    "# HINT: ref [2,3]\n",
    "# Count the letters and store in the dictionary\n",
    "char_count_dict = {c:0 for c in string.ascii_uppercase}\n",
    "for c in text_without_space:\n",
    "    char_count_dict[c] = char_count_dict[c] + 1\n",
    "\n",
    "# Sort letters by most common into a list of (letter, count) tuples\n",
    "sorted_list = sorted(char_count_dict.items(), key = operator.itemgetter(1), reverse = True)\n",
    "\n",
    "# Print the 6 most common characters\n",
    "# HINT: ref [4]\n",
    "print(\"Character : Count\")\n",
    "for item in sorted_list[0:6]:\n",
    "    #print(item[0], item[1])\n",
    "    print(\"{:<9} : {:>6}\".format(item[0], item[1]))\n"
   ]
  },
  {
   "cell_type": "markdown",
   "metadata": {},
   "source": [
    "#### Expected Output:\n",
    "```\n",
    "Character : Count\n",
    "E         : 258693\n",
    "T         : 180211\n",
    "A         : 165306\n",
    "O         : 156817\n",
    "I         : 142095\n",
    "N         : 137343\n",
    "```"
   ]
  },
  {
   "cell_type": "markdown",
   "metadata": {},
   "source": [
    "**References:**\n",
    "- [1: str.join](https://docs.python.org/3/library/stdtypes.html#str.join)\n",
    "- [2: list comprehensions](https://docs.python.org/3/tutorial/datastructures.html#list-comprehensions)\n",
    "- [3: dictionaries](https://docs.python.org/3.6/library/stdtypes.html#dict)\n",
    "- [4: format string syntax](https://docs.python.org/3.6/library/string.html#format-string-syntax)"
   ]
  },
  {
   "cell_type": "markdown",
   "metadata": {},
   "source": [
    "### Problem 3:\n",
    "If we really wanted to crack a substitution cipher (or win on ”Wheel of Fortune”) then we should be aware that, although \"e\" is the most common letter used in English, it may not be the most common first letter in a word. **Count the positional frequencies of each letter. Specifically, count the number of times each letter appears as the first letter in a word, as the last letter in a word, and as an interior letter in a word (i.e. a letter that is neither first nor last)**. *Below, we provide you with the first step to solve this problem and hints for what to do next.*"
   ]
  },
  {
   "cell_type": "markdown",
   "metadata": {},
   "source": [
    "Below, we define a method which takes in a word (string) and returns a list describing the position of each letter (character).  Each item in the list has the format `(letter, position)`.  The position can have the following values: `0: first letter, 1: interior letter, 2: last letter`"
   ]
  },
  {
   "cell_type": "code",
   "execution_count": 103,
   "metadata": {},
   "outputs": [],
   "source": [
    "# Define a method to return position of each character in a word\n",
    "def lettersPosition(word):\n",
    "    if len(word) == 1:\n",
    "        # Base case for words of length 1\n",
    "        return [(word, 0)]\n",
    "    else:\n",
    "        # Get first and last letters\n",
    "        first, last = word[0], word[-1]\n",
    "        pos_list = [(first, 0), (last, 2)]\n",
    "\n",
    "        # Get interior letters\n",
    "        interior = word[1:-1]\n",
    "        for char in interior:\n",
    "            pos_list.append((char, 1))\n",
    "\n",
    "    return pos_list"
   ]
  },
  {
   "cell_type": "markdown",
   "metadata": {},
   "source": [
    "We can call this method for each word in our list of words and sum the values to obtain letter position frequencies."
   ]
  },
  {
   "cell_type": "code",
   "execution_count": 104,
   "metadata": {
    "scrolled": true
   },
   "outputs": [
    {
     "name": "stdout",
     "output_type": "stream",
     "text": [
      "Character : First | Interior |  Last\n",
      "A         : 51644 |   111686 |  1976\n",
      "B         : 18866 |     8516 |   541\n",
      "C         : 19577 |    32130 |   725\n",
      "D         : 17289 |    18613 | 58075\n",
      "E         : 10178 |   153205 | 95310\n",
      "F         : 17724 |    10618 | 16988\n"
     ]
    }
   ],
   "source": [
    "import string\n",
    "# Define a dictionary for counting letter position frequency\n",
    "char_pos_dict = {c:[0,0,0] for c in string.ascii_uppercase}\n",
    "\n",
    "# Apply our letter location method to each word and sum values in our dictionary\n",
    "for w in words:\n",
    "    pos_list = lettersPosition(w)\n",
    "    for item in pos_list:\n",
    "        key = item[0]\n",
    "        value = item[1]\n",
    "        char_pos_dict[key][value] = char_pos_dict[key][value] + 1\n",
    "        \n",
    "# Print the position frequency of the first 6 letters in the alphabet\n",
    "counter = 0\n",
    "print(\"Character : First | Interior |  Last\")\n",
    "for key, value in char_pos_dict.items():\n",
    "    print(\"{:<9} : {:>5} | {:>8} | {:>5}\".format(key, value[0], value[1], value[2]))\n",
    "    counter = counter + 1\n",
    "    if(counter == 6):\n",
    "        break\n"
   ]
  },
  {
   "cell_type": "markdown",
   "metadata": {},
   "source": [
    "#### Expected Output:\n",
    "```\n",
    "Character : First | Interior |  Last\n",
    "A         : 51644 |   111686 |  1976\n",
    "B         : 18866 |     8516 |   541\n",
    "C         : 19577 |    32130 |   725\n",
    "D         : 17289 |    18613 | 58075\n",
    "E         : 10178 |   153205 | 95310\n",
    "F         : 17724 |    10618 | 16988\n",
    "```"
   ]
  },
  {
   "cell_type": "markdown",
   "metadata": {},
   "source": [
    "### Problem 4:\n",
    "For problems 1, 2, and 3 you may want to present your results in a (graphically) nice way. This could be done with a histogram. It is probably easiest to build the histogram using whatever software package you feel comfortable with, but we recommend the python module `matplotlib`. Make sure to give your plots meaningful labels (including axis labels and a title)."
   ]
  },
  {
   "cell_type": "code",
   "execution_count": 105,
   "metadata": {},
   "outputs": [],
   "source": [
    "# Import matplotlib's pyplot\n",
    "# HINT: ref[1]\n",
    "from matplotlib import pyplot as plt"
   ]
  },
  {
   "cell_type": "markdown",
   "metadata": {},
   "source": [
    "We provide the code to plot the histogram of word lengths from problem 1 below.  Use this code as a template to produce histograms for problems 2 and 3.  *Note: this code assumes that you have a dictionary, `word_len_dict`, with keys containing the word length and values containing the count of words with a given length (i.e., an entry of `3:109798` in the dictionary indicates that there are 109,798 words of length 3).*"
   ]
  },
  {
   "cell_type": "code",
   "execution_count": 106,
   "metadata": {},
   "outputs": [
    {
     "data": {
      "image/png": "[encoded data removed]",
      "text/plain": [
       "<Figure size 432x288 with 1 Axes>"
      ]
     },
     "metadata": {},
     "output_type": "display_data"
    }
   ],
   "source": [
    "# Sort word length dictionary by length of word\n",
    "wl_sorted = sorted(word_len_dict.items(), key=lambda x: x[0])\n",
    "\n",
    "# Get X and Y values\n",
    "# HINT: ref[2]\n",
    "X_vals, Y_vals = zip(*wl_sorted)\n",
    "\n",
    "# Plot the histogram for problem 1'\n",
    "# HINT: ref[3]\n",
    "plt.bar(X_vals, Y_vals, 0.75, color = 'orange')\n",
    "plt.xlim((.125, len(X_vals)))\n",
    "plt.xticks(range(1,len(X_vals)+1,2))\n",
    "plt.xlabel('Word Length')\n",
    "plt.ylabel('Word Length Count')\n",
    "plt.title('Word Length Count in The Count of Monte Cristo')\n",
    "plt.show()"
   ]
  },
  {
   "cell_type": "markdown",
   "metadata": {},
   "source": [
    "**References:**\n",
    "- [1: pyplot tutorial](https://matplotlib.org/tutorials/introductory/pyplot.html)\n",
    "- [2: zip](https://docs.python.org/3/library/functions.html#zip)\n",
    "- [3: pyplot.bar](https://matplotlib.org/devdocs/api/_as_gen/matplotlib.pyplot.bar.html)"
   ]
  },
  {
   "cell_type": "markdown",
   "metadata": {},
   "source": [
    "In the cell below, write the code for the visualization of results from problem 2."
   ]
  },
  {
   "cell_type": "code",
   "execution_count": 107,
   "metadata": {},
   "outputs": [
    {
     "data": {
      "image/png": "[encoded data removed]",
      "text/plain": [
       "<Figure size 432x288 with 1 Axes>"
      ]
     },
     "metadata": {},
     "output_type": "display_data"
    }
   ],
   "source": [
    "\n",
    "wl_sorted = sorted(char_count_dict.items(), key=lambda x: x[0])\n",
    "\n",
    "# Get X and Y values\n",
    "# HINT: ref[2]\n",
    "X_vals, Y_vals = zip(*wl_sorted)\n",
    "\n",
    "# Plot the histogram for problem 2'\n",
    "\n",
    "plt.bar(X_vals, Y_vals, .75, color = 'purple')\n",
    "plt.xlim((1.50, len(X_vals)))\n",
    "plt.xticks(range(-1,len(X_vals)+1,1))\n",
    "plt.xlabel('Character')\n",
    "plt.ylabel('Character Count')\n",
    "plt.title('Character Count in The Count of Monte Cristo')\n",
    "plt.show()"
   ]
  },
  {
   "cell_type": "markdown",
   "metadata": {},
   "source": [
    "In the cell below, write the code for the visualization of results from problem 3."
   ]
  },
  {
   "cell_type": "code",
   "execution_count": 108,
   "metadata": {},
   "outputs": [
    {
     "data": {
      "image/png": "[encoded data removed]",
      "text/plain": [
       "<Figure size 432x288 with 1 Axes>"
      ]
     },
     "metadata": {},
     "output_type": "display_data"
    }
   ],
   "source": [
    "import numpy as np\n",
    "import matplotlib.pyplot as plt\n",
    "\n",
    "N = 6\n",
    "ind = np.arange(N)  # the x locations for the groups\n",
    "width = 0.25       # the width of the bars\n",
    "\n",
    "fig = plt.figure()\n",
    "ax = fig.add_subplot(111)\n",
    "\n",
    "counter = 0\n",
    "yvals = []\n",
    "zvals = []\n",
    "kvals = []\n",
    "for key, value in char_pos_dict.items():\n",
    "    yvals.append(value[0])\n",
    "    zvals.append(value[1])\n",
    "    kvals.append(value[2])\n",
    "    counter = counter + 1\n",
    "    if(counter == 6):\n",
    "        break\n",
    "\n",
    "rects1 = ax.bar(ind, yvals, width, color='purple')\n",
    "rects2 = ax.bar(ind+width, zvals, width, color='orange')\n",
    "rects3 = ax.bar(ind+width*2, kvals, width, color='blue')\n",
    "\n",
    "ax.set_ylabel('Positional Frequency')\n",
    "ax.set_xlabel('Character')\n",
    "ax.set_xticks(ind+width)\n",
    "ax.set_xticklabels( ('A', 'B', 'C', 'D', 'E', 'F') )\n",
    "ax.legend( (rects1[0], rects2[0], rects3[0]), ('first', 'interior', 'last') )\n",
    "\n",
    "\n",
    "#def autolabel(rects):\n",
    "#    for rect in rects:\n",
    "#        h = rect.get_height()\n",
    "#        ax.text(rect.get_x()+rect.get_width()/2., 1.05*h, '%d'%int(h), ha='center', va='bottom')\n",
    "#\n",
    "#autolabel(rects1)\n",
    "#autolabel(rects2)\n",
    "#autolabel(rects3)\n",
    "\n",
    "plt.title(\"Positional Frequencies of First Six Character\\n\")\n",
    "plt.show()"
   ]
  },
  {
   "cell_type": "markdown",
   "metadata": {},
   "source": [
    "### Things to Consider:\n",
    "You are reading and analyzing the text in a single, sequential pass. Can you consider a better (faster) way to perform the same tasks?"
   ]
  },
  {
   "cell_type": "markdown",
   "metadata": {},
   "source": [
    "### Assignment Questions:\n",
    "**Answer the following questions, in a couple sentences each, in the cell provided below**\n",
    "* List the key tasks you accomplished during this assignment?\n",
    "* Describe the challenges you faced in addressing these tasks and how you overcame these challenges?\n",
    "* Did you work with other students on this assignment? If yes, how did you help them? How did they help you? Be as specific as possible."
   ]
  },
  {
   "cell_type": "markdown",
   "metadata": {},
   "source": [
    "<h4>MY ANSWERS</h4>\n",
    "\n",
    "- After getting a good insight about the questions, I tried to study the new pyhton things and find the logic for solving the first threee questions.\n",
    "- Main challenges were the string format and bar diagram for multifield data of question 3.\n",
    "- No, I worked myself.\n"
   ]
  },
  {
   "cell_type": "code",
   "execution_count": null,
   "metadata": {},
   "outputs": [],
   "source": []
  }
 ],
 "metadata": {
  "kernelspec": {
   "display_name": "Python 3",
   "language": "python",
   "name": "python3"
  },
  "language_info": {
   "codemirror_mode": {
    "name": "ipython",
    "version": 3
   },
   "file_extension": ".py",
   "mimetype": "text/x-python",
   "name": "python",
   "nbconvert_exporter": "python",
   "pygments_lexer": "ipython3",
   "version": "3.6.5"
  }
 },
 "nbformat": 4,
 "nbformat_minor": 2
}
